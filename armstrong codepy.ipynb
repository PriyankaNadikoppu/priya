{
 "cells": [
  {
   "cell_type": "code",
   "execution_count": null,
   "id": "cbf75e63-4f2c-4fd5-8085-aedc20582973",
   "metadata": {},
   "outputs": [],
   "source": [
    "num= int(input(\"enter the number:\"))\n",
    "temp= num\n",
    "n= len(str(num))\n",
    "sum= 0\n",
    "while temp!=0:\n",
    "    digit= temp%10\n",
    "    sum+= digit ** n\n",
    "    temp //= 10\n",
    "print(\"latest value of sum:\", sum)\n",
    "print(\"latest value of temp:\", temp)\n",
    "if sum==num:\n",
    "    print(\"armstrong number\")\n",
    "else:\n",
    "    print(\"not armstrong number\")"
   ]
  }
 ],
 "metadata": {
  "kernelspec": {
   "display_name": "Python 3 (ipykernel)",
   "language": "python",
   "name": "python3"
  },
  "language_info": {
   "codemirror_mode": {
    "name": "ipython",
    "version": 3
   },
   "file_extension": ".py",
   "mimetype": "text/x-python",
   "name": "python",
   "nbconvert_exporter": "python",
   "pygments_lexer": "ipython3",
   "version": "3.12.7"
  }
 },
 "nbformat": 4,
 "nbformat_minor": 5
}
