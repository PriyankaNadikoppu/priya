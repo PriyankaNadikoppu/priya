{
 "cells": [
  {
   "cell_type": "code",
   "execution_count": null,
   "id": "659d5f60-b576-4b29-872c-10ab1851a0a1",
   "metadata": {},
   "outputs": [],
   "source": [
    "n= 153\n",
    "t= n\n",
    "s= 0\n",
    "l= len(str(n))\n",
    "while n!=0:\n",
    "    d= n%10\n",
    "    s+= d**l\n",
    "    n= n//10\n",
    "if t == s:\n",
    "    print(\"armstrong number\")\n",
    "else:\n",
    "    print(\"not armstrong number\")\n"
   ]
  }
 ],
 "metadata": {
  "kernelspec": {
   "display_name": "Python 3 (ipykernel)",
   "language": "python",
   "name": "python3"
  },
  "language_info": {
   "codemirror_mode": {
    "name": "ipython",
    "version": 3
   },
   "file_extension": ".py",
   "mimetype": "text/x-python",
   "name": "python",
   "nbconvert_exporter": "python",
   "pygments_lexer": "ipython3",
   "version": "3.12.7"
  }
 },
 "nbformat": 4,
 "nbformat_minor": 5
}
