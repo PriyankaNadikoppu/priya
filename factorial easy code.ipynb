{
 "cells": [
  {
   "cell_type": "code",
   "execution_count": null,
   "id": "98f4eae6-d514-46ae-9fdb-cc84541f70e1",
   "metadata": {},
   "outputs": [],
   "source": [
    "n= int(input(\"enter the n value:\"))\n",
    "f=1\n",
    "for i in range(1,n+1):\n",
    "    f*=i\n",
    "print(f)\n"
   ]
  }
 ],
 "metadata": {
  "kernelspec": {
   "display_name": "Python 3 (ipykernel)",
   "language": "python",
   "name": "python3"
  },
  "language_info": {
   "codemirror_mode": {
    "name": "ipython",
    "version": 3
   },
   "file_extension": ".py",
   "mimetype": "text/x-python",
   "name": "python",
   "nbconvert_exporter": "python",
   "pygments_lexer": "ipython3",
   "version": "3.12.7"
  }
 },
 "nbformat": 4,
 "nbformat_minor": 5
}
